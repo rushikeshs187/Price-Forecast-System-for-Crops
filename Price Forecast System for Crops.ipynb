{
 "cells": [
  {
   "cell_type": "code",
   "execution_count": 1,
   "id": "af82ce18",
   "metadata": {},
   "outputs": [],
   "source": [
    "# Libraries\n",
    "\n",
    "# pandas\n",
    "import pandas as pd\n",
    "\n",
    "# matplotlib\n",
    "import matplotlib.pyplot as plt \n",
    "\n",
    "# seaborn\n",
    "import seaborn as sns\n",
    "\n",
    "# numpy\n",
    "import numpy as np\n",
    "\n",
    "# sklearn\n",
    "from sklearn.metrics import confusion_matrix,classification_report\n",
    "from sklearn.model_selection import train_test_split\n",
    "from sklearn.preprocessing import StandardScaler\n",
    "\n",
    "# Classification Models\n",
    "from sklearn.tree import DecisionTreeClassifier\n",
    "from sklearn.ensemble import RandomForestClassifier\n",
    "from sklearn.svm import SVC\n",
    "\n",
    "# Regression Models\n",
    "from sklearn.linear_model import LinearRegression\n",
    "from sklearn.ensemble import RandomForestRegressor, GradientBoostingRegressor"
   ]
  },
  {
   "cell_type": "code",
   "execution_count": 2,
   "id": "95ffe8e7",
   "metadata": {},
   "outputs": [
    {
     "data": {
      "text/html": [
       "<div>\n",
       "<style scoped>\n",
       "    .dataframe tbody tr th:only-of-type {\n",
       "        vertical-align: middle;\n",
       "    }\n",
       "\n",
       "    .dataframe tbody tr th {\n",
       "        vertical-align: top;\n",
       "    }\n",
       "\n",
       "    .dataframe thead th {\n",
       "        text-align: right;\n",
       "    }\n",
       "</style>\n",
       "<table border=\"1\" class=\"dataframe\">\n",
       "  <thead>\n",
       "    <tr style=\"text-align: right;\">\n",
       "      <th></th>\n",
       "      <th>State</th>\n",
       "      <th>Nitrogen</th>\n",
       "      <th>Phosphorous</th>\n",
       "      <th>Potassium</th>\n",
       "      <th>Temperature</th>\n",
       "      <th>Humidity</th>\n",
       "      <th>pH</th>\n",
       "      <th>Rainfall</th>\n",
       "      <th>Crop</th>\n",
       "    </tr>\n",
       "  </thead>\n",
       "  <tbody>\n",
       "    <tr>\n",
       "      <th>0</th>\n",
       "      <td>Gujarat</td>\n",
       "      <td>36</td>\n",
       "      <td>24</td>\n",
       "      <td>41</td>\n",
       "      <td>24.944676</td>\n",
       "      <td>94.257027</td>\n",
       "      <td>7.009180</td>\n",
       "      <td>103.879935</td>\n",
       "      <td>Anar</td>\n",
       "    </tr>\n",
       "    <tr>\n",
       "      <th>1</th>\n",
       "      <td>Gujarat</td>\n",
       "      <td>40</td>\n",
       "      <td>29</td>\n",
       "      <td>42</td>\n",
       "      <td>24.632287</td>\n",
       "      <td>89.015745</td>\n",
       "      <td>7.104095</td>\n",
       "      <td>110.695618</td>\n",
       "      <td>Anar</td>\n",
       "    </tr>\n",
       "    <tr>\n",
       "      <th>2</th>\n",
       "      <td>Gujarat</td>\n",
       "      <td>0</td>\n",
       "      <td>17</td>\n",
       "      <td>42</td>\n",
       "      <td>23.202426</td>\n",
       "      <td>91.194427</td>\n",
       "      <td>6.859841</td>\n",
       "      <td>109.094632</td>\n",
       "      <td>Anar</td>\n",
       "    </tr>\n",
       "    <tr>\n",
       "      <th>3</th>\n",
       "      <td>Gujarat</td>\n",
       "      <td>6</td>\n",
       "      <td>18</td>\n",
       "      <td>37</td>\n",
       "      <td>19.656901</td>\n",
       "      <td>89.937010</td>\n",
       "      <td>5.937650</td>\n",
       "      <td>108.045893</td>\n",
       "      <td>Anar</td>\n",
       "    </tr>\n",
       "    <tr>\n",
       "      <th>4</th>\n",
       "      <td>Gujarat</td>\n",
       "      <td>32</td>\n",
       "      <td>13</td>\n",
       "      <td>42</td>\n",
       "      <td>23.501282</td>\n",
       "      <td>92.975275</td>\n",
       "      <td>5.786058</td>\n",
       "      <td>106.619050</td>\n",
       "      <td>Anar</td>\n",
       "    </tr>\n",
       "  </tbody>\n",
       "</table>\n",
       "</div>"
      ],
      "text/plain": [
       "     State  Nitrogen  Phosphorous   Potassium   Temperature   Humidity  \\\n",
       "0  Gujarat        36            24          41    24.944676  94.257027   \n",
       "1  Gujarat        40            29          42    24.632287  89.015745   \n",
       "2  Gujarat         0            17          42    23.202426  91.194427   \n",
       "3  Gujarat         6            18          37    19.656901  89.937010   \n",
       "4  Gujarat        32            13          42    23.501282  92.975275   \n",
       "\n",
       "         pH    Rainfall  Crop  \n",
       "0  7.009180  103.879935  Anar  \n",
       "1  7.104095  110.695618  Anar  \n",
       "2  6.859841  109.094632  Anar  \n",
       "3  5.937650  108.045893  Anar  \n",
       "4  5.786058  106.619050  Anar  "
      ]
     },
     "execution_count": 2,
     "metadata": {},
     "output_type": "execute_result"
    }
   ],
   "source": [
    "# Reading the dataset\n",
    "\n",
    "crop_df = pd.read_csv('Datasets/best_crop.csv')\n",
    "crop_df.head()"
   ]
  },
  {
   "cell_type": "code",
   "execution_count": 3,
   "id": "e7cba92b",
   "metadata": {},
   "outputs": [
    {
     "data": {
      "text/plain": [
       "(1765, 9)"
      ]
     },
     "execution_count": 3,
     "metadata": {},
     "output_type": "execute_result"
    }
   ],
   "source": [
    "# shape of dataset - checking the no. of rows and columns\n",
    "\n",
    "crop_df.shape"
   ]
  },
  {
   "cell_type": "code",
   "execution_count": 4,
   "id": "c3670204",
   "metadata": {},
   "outputs": [
    {
     "data": {
      "text/plain": [
       "State           0\n",
       "Nitrogen        0\n",
       "Phosphorous     0\n",
       "Potassium       0\n",
       "Temperature     0\n",
       "Humidity        0\n",
       "pH              0\n",
       "Rainfall        0\n",
       "Crop            0\n",
       "dtype: int64"
      ]
     },
     "execution_count": 4,
     "metadata": {},
     "output_type": "execute_result"
    }
   ],
   "source": [
    "# checking for null values\n",
    "\n",
    "crop_df.isnull().sum()"
   ]
  },
  {
   "cell_type": "code",
   "execution_count": 5,
   "id": "f0150af2",
   "metadata": {},
   "outputs": [
    {
     "name": "stdout",
     "output_type": "stream",
     "text": [
      "<class 'pandas.core.frame.DataFrame'>\n",
      "RangeIndex: 1765 entries, 0 to 1764\n",
      "Data columns (total 9 columns):\n",
      " #   Column        Non-Null Count  Dtype  \n",
      "---  ------        --------------  -----  \n",
      " 0   State         1765 non-null   object \n",
      " 1   Nitrogen      1765 non-null   int64  \n",
      " 2   Phosphorous   1765 non-null   int64  \n",
      " 3   Potassium     1765 non-null   int64  \n",
      " 4   Temperature   1765 non-null   float64\n",
      " 5   Humidity      1765 non-null   float64\n",
      " 6   pH            1765 non-null   float64\n",
      " 7   Rainfall      1765 non-null   float64\n",
      " 8   Crop          1765 non-null   object \n",
      "dtypes: float64(4), int64(3), object(2)\n",
      "memory usage: 124.2+ KB\n"
     ]
    }
   ],
   "source": [
    "crop_df.info()"
   ]
  },
  {
   "cell_type": "code",
   "execution_count": 6,
   "id": "4a6d67ae",
   "metadata": {},
   "outputs": [],
   "source": [
    "# convert object data to int data\n",
    "\n",
    "# State\n",
    "unq_state = list(set(crop_df['State']))\n",
    "dictOfWords_state = { unq_state[i] : i for i in range(len(unq_state)) }\n",
    "crop_df['State'] = crop_df['State'].map(dictOfWords_state)\n",
    "\n",
    "# Crop\n",
    "unq_crop = list(set(crop_df['Crop']))\n",
    "dictOfWords_crop = { unq_crop[i] : i for i in range(len(unq_crop)) }\n",
    "crop_df['Crop'] = crop_df['Crop'].map(dictOfWords_crop)"
   ]
  },
  {
   "cell_type": "code",
   "execution_count": 7,
   "id": "144f8213",
   "metadata": {},
   "outputs": [
    {
     "name": "stdout",
     "output_type": "stream",
     "text": [
      "<class 'pandas.core.frame.DataFrame'>\n",
      "RangeIndex: 1765 entries, 0 to 1764\n",
      "Data columns (total 9 columns):\n",
      " #   Column        Non-Null Count  Dtype  \n",
      "---  ------        --------------  -----  \n",
      " 0   State         1765 non-null   int64  \n",
      " 1   Nitrogen      1765 non-null   int64  \n",
      " 2   Phosphorous   1765 non-null   int64  \n",
      " 3   Potassium     1765 non-null   int64  \n",
      " 4   Temperature   1765 non-null   float64\n",
      " 5   Humidity      1765 non-null   float64\n",
      " 6   pH            1765 non-null   float64\n",
      " 7   Rainfall      1765 non-null   float64\n",
      " 8   Crop          1765 non-null   int64  \n",
      "dtypes: float64(4), int64(5)\n",
      "memory usage: 124.2 KB\n"
     ]
    }
   ],
   "source": [
    "crop_df.info()"
   ]
  },
  {
   "cell_type": "code",
   "execution_count": 8,
   "id": "357365f3",
   "metadata": {},
   "outputs": [
    {
     "data": {
      "text/html": [
       "<div>\n",
       "<style scoped>\n",
       "    .dataframe tbody tr th:only-of-type {\n",
       "        vertical-align: middle;\n",
       "    }\n",
       "\n",
       "    .dataframe tbody tr th {\n",
       "        vertical-align: top;\n",
       "    }\n",
       "\n",
       "    .dataframe thead th {\n",
       "        text-align: right;\n",
       "    }\n",
       "</style>\n",
       "<table border=\"1\" class=\"dataframe\">\n",
       "  <thead>\n",
       "    <tr style=\"text-align: right;\">\n",
       "      <th></th>\n",
       "      <th>State</th>\n",
       "      <th>Nitrogen</th>\n",
       "      <th>Phosphorous</th>\n",
       "      <th>Potassium</th>\n",
       "      <th>Temperature</th>\n",
       "      <th>Humidity</th>\n",
       "      <th>pH</th>\n",
       "      <th>Rainfall</th>\n",
       "      <th>Crop</th>\n",
       "    </tr>\n",
       "  </thead>\n",
       "  <tbody>\n",
       "    <tr>\n",
       "      <th>0</th>\n",
       "      <td>5</td>\n",
       "      <td>36</td>\n",
       "      <td>24</td>\n",
       "      <td>41</td>\n",
       "      <td>24.944676</td>\n",
       "      <td>94.257027</td>\n",
       "      <td>7.009180</td>\n",
       "      <td>103.879935</td>\n",
       "      <td>12</td>\n",
       "    </tr>\n",
       "    <tr>\n",
       "      <th>1</th>\n",
       "      <td>5</td>\n",
       "      <td>40</td>\n",
       "      <td>29</td>\n",
       "      <td>42</td>\n",
       "      <td>24.632287</td>\n",
       "      <td>89.015745</td>\n",
       "      <td>7.104095</td>\n",
       "      <td>110.695618</td>\n",
       "      <td>12</td>\n",
       "    </tr>\n",
       "    <tr>\n",
       "      <th>2</th>\n",
       "      <td>5</td>\n",
       "      <td>0</td>\n",
       "      <td>17</td>\n",
       "      <td>42</td>\n",
       "      <td>23.202426</td>\n",
       "      <td>91.194427</td>\n",
       "      <td>6.859841</td>\n",
       "      <td>109.094632</td>\n",
       "      <td>12</td>\n",
       "    </tr>\n",
       "    <tr>\n",
       "      <th>3</th>\n",
       "      <td>5</td>\n",
       "      <td>6</td>\n",
       "      <td>18</td>\n",
       "      <td>37</td>\n",
       "      <td>19.656901</td>\n",
       "      <td>89.937010</td>\n",
       "      <td>5.937650</td>\n",
       "      <td>108.045893</td>\n",
       "      <td>12</td>\n",
       "    </tr>\n",
       "    <tr>\n",
       "      <th>4</th>\n",
       "      <td>5</td>\n",
       "      <td>32</td>\n",
       "      <td>13</td>\n",
       "      <td>42</td>\n",
       "      <td>23.501282</td>\n",
       "      <td>92.975275</td>\n",
       "      <td>5.786058</td>\n",
       "      <td>106.619050</td>\n",
       "      <td>12</td>\n",
       "    </tr>\n",
       "  </tbody>\n",
       "</table>\n",
       "</div>"
      ],
      "text/plain": [
       "   State  Nitrogen  Phosphorous   Potassium   Temperature   Humidity  \\\n",
       "0      5        36            24          41    24.944676  94.257027   \n",
       "1      5        40            29          42    24.632287  89.015745   \n",
       "2      5         0            17          42    23.202426  91.194427   \n",
       "3      5         6            18          37    19.656901  89.937010   \n",
       "4      5        32            13          42    23.501282  92.975275   \n",
       "\n",
       "         pH    Rainfall  Crop  \n",
       "0  7.009180  103.879935    12  \n",
       "1  7.104095  110.695618    12  \n",
       "2  6.859841  109.094632    12  \n",
       "3  5.937650  108.045893    12  \n",
       "4  5.786058  106.619050    12  "
      ]
     },
     "execution_count": 8,
     "metadata": {},
     "output_type": "execute_result"
    }
   ],
   "source": [
    "crop_df.head()"
   ]
  },
  {
   "cell_type": "code",
   "execution_count": 9,
   "id": "21caf23b",
   "metadata": {},
   "outputs": [],
   "source": [
    "# Separate independent and dependent columns\n",
    "\n",
    "x = crop_df.drop(['Crop'], axis=1)\n",
    "y = crop_df[['Crop']]"
   ]
  },
  {
   "cell_type": "code",
   "execution_count": 10,
   "id": "a96136d5",
   "metadata": {},
   "outputs": [
    {
     "data": {
      "text/html": [
       "<div>\n",
       "<style scoped>\n",
       "    .dataframe tbody tr th:only-of-type {\n",
       "        vertical-align: middle;\n",
       "    }\n",
       "\n",
       "    .dataframe tbody tr th {\n",
       "        vertical-align: top;\n",
       "    }\n",
       "\n",
       "    .dataframe thead th {\n",
       "        text-align: right;\n",
       "    }\n",
       "</style>\n",
       "<table border=\"1\" class=\"dataframe\">\n",
       "  <thead>\n",
       "    <tr style=\"text-align: right;\">\n",
       "      <th></th>\n",
       "      <th>State</th>\n",
       "      <th>Nitrogen</th>\n",
       "      <th>Phosphorous</th>\n",
       "      <th>Potassium</th>\n",
       "      <th>Temperature</th>\n",
       "      <th>Humidity</th>\n",
       "      <th>pH</th>\n",
       "      <th>Rainfall</th>\n",
       "    </tr>\n",
       "  </thead>\n",
       "  <tbody>\n",
       "    <tr>\n",
       "      <th>0</th>\n",
       "      <td>5</td>\n",
       "      <td>36</td>\n",
       "      <td>24</td>\n",
       "      <td>41</td>\n",
       "      <td>24.944676</td>\n",
       "      <td>94.257027</td>\n",
       "      <td>7.009180</td>\n",
       "      <td>103.879935</td>\n",
       "    </tr>\n",
       "    <tr>\n",
       "      <th>1</th>\n",
       "      <td>5</td>\n",
       "      <td>40</td>\n",
       "      <td>29</td>\n",
       "      <td>42</td>\n",
       "      <td>24.632287</td>\n",
       "      <td>89.015745</td>\n",
       "      <td>7.104095</td>\n",
       "      <td>110.695618</td>\n",
       "    </tr>\n",
       "    <tr>\n",
       "      <th>2</th>\n",
       "      <td>5</td>\n",
       "      <td>0</td>\n",
       "      <td>17</td>\n",
       "      <td>42</td>\n",
       "      <td>23.202426</td>\n",
       "      <td>91.194427</td>\n",
       "      <td>6.859841</td>\n",
       "      <td>109.094632</td>\n",
       "    </tr>\n",
       "    <tr>\n",
       "      <th>3</th>\n",
       "      <td>5</td>\n",
       "      <td>6</td>\n",
       "      <td>18</td>\n",
       "      <td>37</td>\n",
       "      <td>19.656901</td>\n",
       "      <td>89.937010</td>\n",
       "      <td>5.937650</td>\n",
       "      <td>108.045893</td>\n",
       "    </tr>\n",
       "    <tr>\n",
       "      <th>4</th>\n",
       "      <td>5</td>\n",
       "      <td>32</td>\n",
       "      <td>13</td>\n",
       "      <td>42</td>\n",
       "      <td>23.501282</td>\n",
       "      <td>92.975275</td>\n",
       "      <td>5.786058</td>\n",
       "      <td>106.619050</td>\n",
       "    </tr>\n",
       "  </tbody>\n",
       "</table>\n",
       "</div>"
      ],
      "text/plain": [
       "   State  Nitrogen  Phosphorous   Potassium   Temperature   Humidity  \\\n",
       "0      5        36            24          41    24.944676  94.257027   \n",
       "1      5        40            29          42    24.632287  89.015745   \n",
       "2      5         0            17          42    23.202426  91.194427   \n",
       "3      5         6            18          37    19.656901  89.937010   \n",
       "4      5        32            13          42    23.501282  92.975275   \n",
       "\n",
       "         pH    Rainfall  \n",
       "0  7.009180  103.879935  \n",
       "1  7.104095  110.695618  \n",
       "2  6.859841  109.094632  \n",
       "3  5.937650  108.045893  \n",
       "4  5.786058  106.619050  "
      ]
     },
     "execution_count": 10,
     "metadata": {},
     "output_type": "execute_result"
    }
   ],
   "source": [
    "x.head()"
   ]
  },
  {
   "cell_type": "code",
   "execution_count": 11,
   "id": "e97279fa",
   "metadata": {},
   "outputs": [
    {
     "data": {
      "text/html": [
       "<div>\n",
       "<style scoped>\n",
       "    .dataframe tbody tr th:only-of-type {\n",
       "        vertical-align: middle;\n",
       "    }\n",
       "\n",
       "    .dataframe tbody tr th {\n",
       "        vertical-align: top;\n",
       "    }\n",
       "\n",
       "    .dataframe thead th {\n",
       "        text-align: right;\n",
       "    }\n",
       "</style>\n",
       "<table border=\"1\" class=\"dataframe\">\n",
       "  <thead>\n",
       "    <tr style=\"text-align: right;\">\n",
       "      <th></th>\n",
       "      <th>Crop</th>\n",
       "    </tr>\n",
       "  </thead>\n",
       "  <tbody>\n",
       "    <tr>\n",
       "      <th>0</th>\n",
       "      <td>12</td>\n",
       "    </tr>\n",
       "    <tr>\n",
       "      <th>1</th>\n",
       "      <td>12</td>\n",
       "    </tr>\n",
       "    <tr>\n",
       "      <th>2</th>\n",
       "      <td>12</td>\n",
       "    </tr>\n",
       "    <tr>\n",
       "      <th>3</th>\n",
       "      <td>12</td>\n",
       "    </tr>\n",
       "    <tr>\n",
       "      <th>4</th>\n",
       "      <td>12</td>\n",
       "    </tr>\n",
       "  </tbody>\n",
       "</table>\n",
       "</div>"
      ],
      "text/plain": [
       "   Crop\n",
       "0    12\n",
       "1    12\n",
       "2    12\n",
       "3    12\n",
       "4    12"
      ]
     },
     "execution_count": 11,
     "metadata": {},
     "output_type": "execute_result"
    }
   ],
   "source": [
    "y.head()"
   ]
  },
  {
   "cell_type": "code",
   "execution_count": 12,
   "id": "7f18573c",
   "metadata": {},
   "outputs": [],
   "source": [
    "# Split data into train and test data\n",
    "\n",
    "Xtrain,Xtest,Ytrain,Ytest = train_test_split(x, y, test_size = 0.2)"
   ]
  },
  {
   "cell_type": "code",
   "execution_count": 13,
   "id": "783edb2f",
   "metadata": {},
   "outputs": [
    {
     "data": {
      "text/html": [
       "<div>\n",
       "<style scoped>\n",
       "    .dataframe tbody tr th:only-of-type {\n",
       "        vertical-align: middle;\n",
       "    }\n",
       "\n",
       "    .dataframe tbody tr th {\n",
       "        vertical-align: top;\n",
       "    }\n",
       "\n",
       "    .dataframe thead th {\n",
       "        text-align: right;\n",
       "    }\n",
       "</style>\n",
       "<table border=\"1\" class=\"dataframe\">\n",
       "  <thead>\n",
       "    <tr style=\"text-align: right;\">\n",
       "      <th></th>\n",
       "      <th>State</th>\n",
       "      <th>Nitrogen</th>\n",
       "      <th>Phosphorous</th>\n",
       "      <th>Potassium</th>\n",
       "      <th>Temperature</th>\n",
       "      <th>Humidity</th>\n",
       "      <th>pH</th>\n",
       "      <th>Rainfall</th>\n",
       "    </tr>\n",
       "  </thead>\n",
       "  <tbody>\n",
       "    <tr>\n",
       "      <th>790</th>\n",
       "      <td>23</td>\n",
       "      <td>6</td>\n",
       "      <td>139</td>\n",
       "      <td>199</td>\n",
       "      <td>25.673850</td>\n",
       "      <td>81.621213</td>\n",
       "      <td>6.290998</td>\n",
       "      <td>74.109194</td>\n",
       "    </tr>\n",
       "    <tr>\n",
       "      <th>1498</th>\n",
       "      <td>8</td>\n",
       "      <td>59</td>\n",
       "      <td>47</td>\n",
       "      <td>53</td>\n",
       "      <td>32.863166</td>\n",
       "      <td>91.461887</td>\n",
       "      <td>6.850663</td>\n",
       "      <td>47.271547</td>\n",
       "    </tr>\n",
       "    <tr>\n",
       "      <th>772</th>\n",
       "      <td>12</td>\n",
       "      <td>27</td>\n",
       "      <td>145</td>\n",
       "      <td>205</td>\n",
       "      <td>9.467960</td>\n",
       "      <td>82.293355</td>\n",
       "      <td>5.800243</td>\n",
       "      <td>66.027652</td>\n",
       "    </tr>\n",
       "    <tr>\n",
       "      <th>34</th>\n",
       "      <td>9</td>\n",
       "      <td>8</td>\n",
       "      <td>26</td>\n",
       "      <td>36</td>\n",
       "      <td>18.783596</td>\n",
       "      <td>87.402477</td>\n",
       "      <td>6.804781</td>\n",
       "      <td>102.518476</td>\n",
       "    </tr>\n",
       "    <tr>\n",
       "      <th>1456</th>\n",
       "      <td>8</td>\n",
       "      <td>37</td>\n",
       "      <td>18</td>\n",
       "      <td>12</td>\n",
       "      <td>10.270888</td>\n",
       "      <td>90.191477</td>\n",
       "      <td>7.401122</td>\n",
       "      <td>106.695520</td>\n",
       "    </tr>\n",
       "  </tbody>\n",
       "</table>\n",
       "</div>"
      ],
      "text/plain": [
       "      State  Nitrogen  Phosphorous   Potassium   Temperature   Humidity  \\\n",
       "790      23         6           139         199    25.673850  81.621213   \n",
       "1498      8        59            47          53    32.863166  91.461887   \n",
       "772      12        27           145         205     9.467960  82.293355   \n",
       "34        9         8            26          36    18.783596  87.402477   \n",
       "1456      8        37            18          12    10.270888  90.191477   \n",
       "\n",
       "            pH    Rainfall  \n",
       "790   6.290998   74.109194  \n",
       "1498  6.850663   47.271547  \n",
       "772   5.800243   66.027652  \n",
       "34    6.804781  102.518476  \n",
       "1456  7.401122  106.695520  "
      ]
     },
     "execution_count": 13,
     "metadata": {},
     "output_type": "execute_result"
    }
   ],
   "source": [
    "Xtrain.head()"
   ]
  },
  {
   "cell_type": "code",
   "execution_count": 14,
   "id": "147748ea",
   "metadata": {},
   "outputs": [
    {
     "data": {
      "text/html": [
       "<div>\n",
       "<style scoped>\n",
       "    .dataframe tbody tr th:only-of-type {\n",
       "        vertical-align: middle;\n",
       "    }\n",
       "\n",
       "    .dataframe tbody tr th {\n",
       "        vertical-align: top;\n",
       "    }\n",
       "\n",
       "    .dataframe thead th {\n",
       "        text-align: right;\n",
       "    }\n",
       "</style>\n",
       "<table border=\"1\" class=\"dataframe\">\n",
       "  <thead>\n",
       "    <tr style=\"text-align: right;\">\n",
       "      <th></th>\n",
       "      <th>State</th>\n",
       "      <th>Nitrogen</th>\n",
       "      <th>Phosphorous</th>\n",
       "      <th>Potassium</th>\n",
       "      <th>Temperature</th>\n",
       "      <th>Humidity</th>\n",
       "      <th>pH</th>\n",
       "      <th>Rainfall</th>\n",
       "    </tr>\n",
       "  </thead>\n",
       "  <tbody>\n",
       "    <tr>\n",
       "      <th>902</th>\n",
       "      <td>20</td>\n",
       "      <td>75</td>\n",
       "      <td>41</td>\n",
       "      <td>35</td>\n",
       "      <td>24.970426</td>\n",
       "      <td>78.626977</td>\n",
       "      <td>6.856833</td>\n",
       "      <td>166.641525</td>\n",
       "    </tr>\n",
       "    <tr>\n",
       "      <th>1229</th>\n",
       "      <td>16</td>\n",
       "      <td>31</td>\n",
       "      <td>60</td>\n",
       "      <td>24</td>\n",
       "      <td>25.404744</td>\n",
       "      <td>65.856754</td>\n",
       "      <td>7.722336</td>\n",
       "      <td>51.920573</td>\n",
       "    </tr>\n",
       "    <tr>\n",
       "      <th>1662</th>\n",
       "      <td>21</td>\n",
       "      <td>91</td>\n",
       "      <td>35</td>\n",
       "      <td>39</td>\n",
       "      <td>23.793920</td>\n",
       "      <td>80.418180</td>\n",
       "      <td>6.970860</td>\n",
       "      <td>206.261186</td>\n",
       "    </tr>\n",
       "    <tr>\n",
       "      <th>1049</th>\n",
       "      <td>22</td>\n",
       "      <td>66</td>\n",
       "      <td>44</td>\n",
       "      <td>20</td>\n",
       "      <td>19.078147</td>\n",
       "      <td>69.022986</td>\n",
       "      <td>6.740001</td>\n",
       "      <td>80.725159</td>\n",
       "    </tr>\n",
       "    <tr>\n",
       "      <th>437</th>\n",
       "      <td>22</td>\n",
       "      <td>22</td>\n",
       "      <td>72</td>\n",
       "      <td>85</td>\n",
       "      <td>18.868056</td>\n",
       "      <td>15.658092</td>\n",
       "      <td>6.391174</td>\n",
       "      <td>88.510490</td>\n",
       "    </tr>\n",
       "  </tbody>\n",
       "</table>\n",
       "</div>"
      ],
      "text/plain": [
       "      State  Nitrogen  Phosphorous   Potassium   Temperature   Humidity  \\\n",
       "902      20        75            41          35    24.970426  78.626977   \n",
       "1229     16        31            60          24    25.404744  65.856754   \n",
       "1662     21        91            35          39    23.793920  80.418180   \n",
       "1049     22        66            44          20    19.078147  69.022986   \n",
       "437      22        22            72          85    18.868056  15.658092   \n",
       "\n",
       "            pH    Rainfall  \n",
       "902   6.856833  166.641525  \n",
       "1229  7.722336   51.920573  \n",
       "1662  6.970860  206.261186  \n",
       "1049  6.740001   80.725159  \n",
       "437   6.391174   88.510490  "
      ]
     },
     "execution_count": 14,
     "metadata": {},
     "output_type": "execute_result"
    }
   ],
   "source": [
    "Xtest.head()"
   ]
  },
  {
   "cell_type": "code",
   "execution_count": 15,
   "id": "1bc5a948",
   "metadata": {},
   "outputs": [
    {
     "data": {
      "text/html": [
       "<div>\n",
       "<style scoped>\n",
       "    .dataframe tbody tr th:only-of-type {\n",
       "        vertical-align: middle;\n",
       "    }\n",
       "\n",
       "    .dataframe tbody tr th {\n",
       "        vertical-align: top;\n",
       "    }\n",
       "\n",
       "    .dataframe thead th {\n",
       "        text-align: right;\n",
       "    }\n",
       "</style>\n",
       "<table border=\"1\" class=\"dataframe\">\n",
       "  <thead>\n",
       "    <tr style=\"text-align: right;\">\n",
       "      <th></th>\n",
       "      <th>Crop</th>\n",
       "    </tr>\n",
       "  </thead>\n",
       "  <tbody>\n",
       "    <tr>\n",
       "      <th>790</th>\n",
       "      <td>2</td>\n",
       "    </tr>\n",
       "    <tr>\n",
       "      <th>1498</th>\n",
       "      <td>14</td>\n",
       "    </tr>\n",
       "    <tr>\n",
       "      <th>772</th>\n",
       "      <td>2</td>\n",
       "    </tr>\n",
       "    <tr>\n",
       "      <th>34</th>\n",
       "      <td>12</td>\n",
       "    </tr>\n",
       "    <tr>\n",
       "      <th>1456</th>\n",
       "      <td>10</td>\n",
       "    </tr>\n",
       "  </tbody>\n",
       "</table>\n",
       "</div>"
      ],
      "text/plain": [
       "      Crop\n",
       "790      2\n",
       "1498    14\n",
       "772      2\n",
       "34      12\n",
       "1456    10"
      ]
     },
     "execution_count": 15,
     "metadata": {},
     "output_type": "execute_result"
    }
   ],
   "source": [
    "Ytrain.head()"
   ]
  },
  {
   "cell_type": "code",
   "execution_count": 16,
   "id": "66fd18f9",
   "metadata": {},
   "outputs": [
    {
     "data": {
      "text/html": [
       "<div>\n",
       "<style scoped>\n",
       "    .dataframe tbody tr th:only-of-type {\n",
       "        vertical-align: middle;\n",
       "    }\n",
       "\n",
       "    .dataframe tbody tr th {\n",
       "        vertical-align: top;\n",
       "    }\n",
       "\n",
       "    .dataframe thead th {\n",
       "        text-align: right;\n",
       "    }\n",
       "</style>\n",
       "<table border=\"1\" class=\"dataframe\">\n",
       "  <thead>\n",
       "    <tr style=\"text-align: right;\">\n",
       "      <th></th>\n",
       "      <th>Crop</th>\n",
       "    </tr>\n",
       "  </thead>\n",
       "  <tbody>\n",
       "    <tr>\n",
       "      <th>902</th>\n",
       "      <td>17</td>\n",
       "    </tr>\n",
       "    <tr>\n",
       "      <th>1229</th>\n",
       "      <td>6</td>\n",
       "    </tr>\n",
       "    <tr>\n",
       "      <th>1662</th>\n",
       "      <td>8</td>\n",
       "    </tr>\n",
       "    <tr>\n",
       "      <th>1049</th>\n",
       "      <td>13</td>\n",
       "    </tr>\n",
       "    <tr>\n",
       "      <th>437</th>\n",
       "      <td>15</td>\n",
       "    </tr>\n",
       "  </tbody>\n",
       "</table>\n",
       "</div>"
      ],
      "text/plain": [
       "      Crop\n",
       "902     17\n",
       "1229     6\n",
       "1662     8\n",
       "1049    13\n",
       "437     15"
      ]
     },
     "execution_count": 16,
     "metadata": {},
     "output_type": "execute_result"
    }
   ],
   "source": [
    "Ytest.head()"
   ]
  },
  {
   "cell_type": "code",
   "execution_count": 17,
   "id": "ce11a143",
   "metadata": {},
   "outputs": [],
   "source": [
    "# Feature Scaling\n",
    "\n",
    "scalar = StandardScaler()\n",
    "Xtrain = scalar.fit_transform(Xtrain)\n",
    "Xtest = scalar.transform(Xtest)"
   ]
  },
  {
   "cell_type": "code",
   "execution_count": 18,
   "id": "21107034",
   "metadata": {},
   "outputs": [
    {
     "name": "stdout",
     "output_type": "stream",
     "text": [
      "Accuracy Score for Decision Tree is :  98.30028328611898 %\n",
      "Accuracy Score for Random Forest is :  100.0 %\n",
      "Accuracy Score for Support Vector Machine is :  98.01699716713881 %\n"
     ]
    }
   ],
   "source": [
    "# Build Classification Model\n",
    "\n",
    "models = {\n",
    "    DecisionTreeClassifier():'Decision Tree',\n",
    "    RandomForestClassifier():'Random Forest',\n",
    "    SVC():'Support Vector Machine'\n",
    "}\n",
    "\n",
    "for m in models.keys():\n",
    "    m.fit(Xtrain,Ytrain.values.ravel())\n",
    "\n",
    "for model,name in models.items():\n",
    "    print(f\"Accuracy Score for {name} is : \",model.score(Xtest,Ytest)*100,\"%\")"
   ]
  },
  {
   "cell_type": "code",
   "execution_count": 19,
   "id": "7757e030",
   "metadata": {},
   "outputs": [
    {
     "data": {
      "text/html": [
       "<style>#sk-container-id-1 {color: black;background-color: white;}#sk-container-id-1 pre{padding: 0;}#sk-container-id-1 div.sk-toggleable {background-color: white;}#sk-container-id-1 label.sk-toggleable__label {cursor: pointer;display: block;width: 100%;margin-bottom: 0;padding: 0.3em;box-sizing: border-box;text-align: center;}#sk-container-id-1 label.sk-toggleable__label-arrow:before {content: \"▸\";float: left;margin-right: 0.25em;color: #696969;}#sk-container-id-1 label.sk-toggleable__label-arrow:hover:before {color: black;}#sk-container-id-1 div.sk-estimator:hover label.sk-toggleable__label-arrow:before {color: black;}#sk-container-id-1 div.sk-toggleable__content {max-height: 0;max-width: 0;overflow: hidden;text-align: left;background-color: #f0f8ff;}#sk-container-id-1 div.sk-toggleable__content pre {margin: 0.2em;color: black;border-radius: 0.25em;background-color: #f0f8ff;}#sk-container-id-1 input.sk-toggleable__control:checked~div.sk-toggleable__content {max-height: 200px;max-width: 100%;overflow: auto;}#sk-container-id-1 input.sk-toggleable__control:checked~label.sk-toggleable__label-arrow:before {content: \"▾\";}#sk-container-id-1 div.sk-estimator input.sk-toggleable__control:checked~label.sk-toggleable__label {background-color: #d4ebff;}#sk-container-id-1 div.sk-label input.sk-toggleable__control:checked~label.sk-toggleable__label {background-color: #d4ebff;}#sk-container-id-1 input.sk-hidden--visually {border: 0;clip: rect(1px 1px 1px 1px);clip: rect(1px, 1px, 1px, 1px);height: 1px;margin: -1px;overflow: hidden;padding: 0;position: absolute;width: 1px;}#sk-container-id-1 div.sk-estimator {font-family: monospace;background-color: #f0f8ff;border: 1px dotted black;border-radius: 0.25em;box-sizing: border-box;margin-bottom: 0.5em;}#sk-container-id-1 div.sk-estimator:hover {background-color: #d4ebff;}#sk-container-id-1 div.sk-parallel-item::after {content: \"\";width: 100%;border-bottom: 1px solid gray;flex-grow: 1;}#sk-container-id-1 div.sk-label:hover label.sk-toggleable__label {background-color: #d4ebff;}#sk-container-id-1 div.sk-serial::before {content: \"\";position: absolute;border-left: 1px solid gray;box-sizing: border-box;top: 0;bottom: 0;left: 50%;z-index: 0;}#sk-container-id-1 div.sk-serial {display: flex;flex-direction: column;align-items: center;background-color: white;padding-right: 0.2em;padding-left: 0.2em;position: relative;}#sk-container-id-1 div.sk-item {position: relative;z-index: 1;}#sk-container-id-1 div.sk-parallel {display: flex;align-items: stretch;justify-content: center;background-color: white;position: relative;}#sk-container-id-1 div.sk-item::before, #sk-container-id-1 div.sk-parallel-item::before {content: \"\";position: absolute;border-left: 1px solid gray;box-sizing: border-box;top: 0;bottom: 0;left: 50%;z-index: -1;}#sk-container-id-1 div.sk-parallel-item {display: flex;flex-direction: column;z-index: 1;position: relative;background-color: white;}#sk-container-id-1 div.sk-parallel-item:first-child::after {align-self: flex-end;width: 50%;}#sk-container-id-1 div.sk-parallel-item:last-child::after {align-self: flex-start;width: 50%;}#sk-container-id-1 div.sk-parallel-item:only-child::after {width: 0;}#sk-container-id-1 div.sk-dashed-wrapped {border: 1px dashed gray;margin: 0 0.4em 0.5em 0.4em;box-sizing: border-box;padding-bottom: 0.4em;background-color: white;}#sk-container-id-1 div.sk-label label {font-family: monospace;font-weight: bold;display: inline-block;line-height: 1.2em;}#sk-container-id-1 div.sk-label-container {text-align: center;}#sk-container-id-1 div.sk-container {/* jupyter's `normalize.less` sets `[hidden] { display: none; }` but bootstrap.min.css set `[hidden] { display: none !important; }` so we also need the `!important` here to be able to override the default hidden behavior on the sphinx rendered scikit-learn.org. See: https://github.com/scikit-learn/scikit-learn/issues/21755 */display: inline-block !important;position: relative;}#sk-container-id-1 div.sk-text-repr-fallback {display: none;}</style><div id=\"sk-container-id-1\" class=\"sk-top-container\"><div class=\"sk-text-repr-fallback\"><pre>RandomForestClassifier()</pre><b>In a Jupyter environment, please rerun this cell to show the HTML representation or trust the notebook. <br />On GitHub, the HTML representation is unable to render, please try loading this page with nbviewer.org.</b></div><div class=\"sk-container\" hidden><div class=\"sk-item\"><div class=\"sk-estimator sk-toggleable\"><input class=\"sk-toggleable__control sk-hidden--visually\" id=\"sk-estimator-id-1\" type=\"checkbox\" checked><label for=\"sk-estimator-id-1\" class=\"sk-toggleable__label sk-toggleable__label-arrow\">RandomForestClassifier</label><div class=\"sk-toggleable__content\"><pre>RandomForestClassifier()</pre></div></div></div></div></div>"
      ],
      "text/plain": [
       "RandomForestClassifier()"
      ]
     },
     "execution_count": 19,
     "metadata": {},
     "output_type": "execute_result"
    }
   ],
   "source": [
    "# Random Forest gives the highest accuracy - 99.167%\n",
    "\n",
    "rfc = RandomForestClassifier()\n",
    "rfc.fit(Xtrain,Ytrain.values.ravel())"
   ]
  },
  {
   "cell_type": "code",
   "execution_count": 20,
   "id": "ea21f3ee",
   "metadata": {},
   "outputs": [
    {
     "name": "stdout",
     "output_type": "stream",
     "text": [
      "Enter State: Maharashtra\n",
      "Enter amount of Nitrogen in soil: 53\n",
      "Enter amount of Phosphorous in soil: 14\n",
      "Enter amount of Potassium in soil: 78\n",
      "Enter Temperature (in C): 24.564653\n",
      "Enter Humidity (in %): 53.12654\n",
      "Enter pH level of soil: 6.7568\n",
      "Enter amount of Rainfall: 45.54564\n",
      "\n",
      "The best crop for the given conditions would be:  Masur\n"
     ]
    },
    {
     "name": "stderr",
     "output_type": "stream",
     "text": [
      "C:\\ProgramData\\anaconda3\\lib\\site-packages\\sklearn\\base.py:420: UserWarning: X does not have valid feature names, but StandardScaler was fitted with feature names\n",
      "  warnings.warn(\n"
     ]
    }
   ],
   "source": [
    "# Testing with user input\n",
    "\n",
    "State = input(\"Enter State: \")\n",
    "N = float(input(\"Enter amount of Nitrogen in soil: \"))\n",
    "P = float(input(\"Enter amount of Phosphorous in soil: \"))\n",
    "K = float(input(\"Enter amount of Potassium in soil: \"))\n",
    "Temp = float(input(\"Enter Temperature (in C): \"))\n",
    "Hum = float(input(\"Enter Humidity (in %): \"))\n",
    "pH = float(input(\"Enter pH level of soil: \"))\n",
    "Rainfall = float(input(\"Enter amount of Rainfall: \"))\n",
    "\n",
    "State = dictOfWords_state[State]\n",
    "\n",
    "user_input = [[State, N, P, K, Temp, Hum, pH, Rainfall]]\n",
    "\n",
    "sc = StandardScaler()\n",
    "sc.fit(user_input)\n",
    "user_input = scalar.transform(user_input)\n",
    "\n",
    "op = rfc.predict(user_input)\n",
    "\n",
    "crop = [k for k, v in dictOfWords_crop.items() if v == op[0]][0]\n",
    "\n",
    "print(\"\\nThe best crop for the given conditions would be: \",crop)"
   ]
  },
  {
   "cell_type": "code",
   "execution_count": 21,
   "id": "8c501207",
   "metadata": {},
   "outputs": [],
   "source": [
    "# Predicting the Price for the best crop predicted above"
   ]
  },
  {
   "cell_type": "code",
   "execution_count": 22,
   "id": "13950f8c",
   "metadata": {},
   "outputs": [
    {
     "data": {
      "text/html": [
       "<div>\n",
       "<style scoped>\n",
       "    .dataframe tbody tr th:only-of-type {\n",
       "        vertical-align: middle;\n",
       "    }\n",
       "\n",
       "    .dataframe tbody tr th {\n",
       "        vertical-align: top;\n",
       "    }\n",
       "\n",
       "    .dataframe thead th {\n",
       "        text-align: right;\n",
       "    }\n",
       "</style>\n",
       "<table border=\"1\" class=\"dataframe\">\n",
       "  <thead>\n",
       "    <tr style=\"text-align: right;\">\n",
       "      <th></th>\n",
       "      <th>State</th>\n",
       "      <th>Market</th>\n",
       "      <th>Date</th>\n",
       "      <th>Month</th>\n",
       "      <th>Year</th>\n",
       "      <th>Price</th>\n",
       "    </tr>\n",
       "  </thead>\n",
       "  <tbody>\n",
       "    <tr>\n",
       "      <th>0</th>\n",
       "      <td>Assam</td>\n",
       "      <td>Howly</td>\n",
       "      <td>01-01-2019</td>\n",
       "      <td>1</td>\n",
       "      <td>2019</td>\n",
       "      <td>4400.0</td>\n",
       "    </tr>\n",
       "    <tr>\n",
       "      <th>1</th>\n",
       "      <td>Assam</td>\n",
       "      <td>Howly</td>\n",
       "      <td>03-01-2019</td>\n",
       "      <td>1</td>\n",
       "      <td>2019</td>\n",
       "      <td>4500.0</td>\n",
       "    </tr>\n",
       "    <tr>\n",
       "      <th>2</th>\n",
       "      <td>Assam</td>\n",
       "      <td>Howly</td>\n",
       "      <td>21-01-2019</td>\n",
       "      <td>1</td>\n",
       "      <td>2019</td>\n",
       "      <td>4500.0</td>\n",
       "    </tr>\n",
       "    <tr>\n",
       "      <th>3</th>\n",
       "      <td>Assam</td>\n",
       "      <td>Howly</td>\n",
       "      <td>28-01-2019</td>\n",
       "      <td>1</td>\n",
       "      <td>2019</td>\n",
       "      <td>4600.0</td>\n",
       "    </tr>\n",
       "    <tr>\n",
       "      <th>4</th>\n",
       "      <td>Assam</td>\n",
       "      <td>Howly</td>\n",
       "      <td>05-02-2019</td>\n",
       "      <td>2</td>\n",
       "      <td>2019</td>\n",
       "      <td>4600.0</td>\n",
       "    </tr>\n",
       "  </tbody>\n",
       "</table>\n",
       "</div>"
      ],
      "text/plain": [
       "   State Market        Date  Month  Year   Price\n",
       "0  Assam  Howly  01-01-2019      1  2019  4400.0\n",
       "1  Assam  Howly  03-01-2019      1  2019  4500.0\n",
       "2  Assam  Howly  21-01-2019      1  2019  4500.0\n",
       "3  Assam  Howly  28-01-2019      1  2019  4600.0\n",
       "4  Assam  Howly  05-02-2019      2  2019  4600.0"
      ]
     },
     "execution_count": 22,
     "metadata": {},
     "output_type": "execute_result"
    }
   ],
   "source": [
    "# Reading the Dataset\n",
    "\n",
    "crop_price_df = pd.read_csv('Datasets/Price/'+crop+'.csv')\n",
    "crop_price_df.head()"
   ]
  },
  {
   "cell_type": "code",
   "execution_count": 23,
   "id": "9b44afcf",
   "metadata": {},
   "outputs": [
    {
     "data": {
      "text/plain": [
       "(27604, 6)"
      ]
     },
     "execution_count": 23,
     "metadata": {},
     "output_type": "execute_result"
    }
   ],
   "source": [
    "# Shape of Dataset - checking the no. of rows and columns\n",
    "\n",
    "crop_price_df.shape"
   ]
  },
  {
   "cell_type": "code",
   "execution_count": 24,
   "id": "f55b8ba8",
   "metadata": {},
   "outputs": [
    {
     "data": {
      "text/plain": [
       "State           0\n",
       "Nitrogen        0\n",
       "Phosphorous     0\n",
       "Potassium       0\n",
       "Temperature     0\n",
       "Humidity        0\n",
       "pH              0\n",
       "Rainfall        0\n",
       "Crop            0\n",
       "dtype: int64"
      ]
     },
     "execution_count": 24,
     "metadata": {},
     "output_type": "execute_result"
    }
   ],
   "source": [
    "# Checking for Null Values\n",
    "\n",
    "crop_df.isnull().sum()"
   ]
  },
  {
   "cell_type": "code",
   "execution_count": 25,
   "id": "2b0e4bef",
   "metadata": {},
   "outputs": [
    {
     "data": {
      "text/plain": [
       "<Axes: >"
      ]
     },
     "execution_count": 25,
     "metadata": {},
     "output_type": "execute_result"
    },
    {
     "data": {
      "image/png": "[encoded data removed]",
      "text/plain": [
       "<Figure size 640x480 with 1 Axes>"
      ]
     },
     "metadata": {},
     "output_type": "display_data"
    }
   ],
   "source": [
    "# Plotting a box plot to check for outliers\n",
    "\n",
    "sns.boxplot(crop_price_df['Price'])"
   ]
  },
  {
   "cell_type": "code",
   "execution_count": 26,
   "id": "42956c6c",
   "metadata": {},
   "outputs": [
    {
     "name": "stderr",
     "output_type": "stream",
     "text": [
      "C:\\Users\\Jaskaran\\AppData\\Local\\Temp\\ipykernel_2232\\4103001924.py:5: DeprecationWarning: the `interpolation=` argument to percentile was renamed to `method=`, which has additional options.\n",
      "Users of the modes 'nearest', 'lower', 'higher', or 'midpoint' are encouraged to review the method they used. (Deprecated NumPy 1.22)\n",
      "  Q1 = np.percentile(crop_price_df['Price'], 25, interpolation = 'midpoint')\n",
      "C:\\Users\\Jaskaran\\AppData\\Local\\Temp\\ipykernel_2232\\4103001924.py:6: DeprecationWarning: the `interpolation=` argument to percentile was renamed to `method=`, which has additional options.\n",
      "Users of the modes 'nearest', 'lower', 'higher', or 'midpoint' are encouraged to review the method they used. (Deprecated NumPy 1.22)\n",
      "  Q3 = np.percentile(crop_price_df['Price'], 75, interpolation = 'midpoint')\n"
     ]
    }
   ],
   "source": [
    "# Outlier Removal\n",
    "\n",
    "# IQR - interquartile range - the range of values that resides in the middle of the scores\n",
    "\n",
    "Q1 = np.percentile(crop_price_df['Price'], 25, interpolation = 'midpoint')\n",
    "Q3 = np.percentile(crop_price_df['Price'], 75, interpolation = 'midpoint')\n",
    "\n",
    "IQR = Q3 - Q1\n",
    "\n",
    "# upper bound\n",
    "upper = np.where(crop_price_df['Price'] >= (Q3 + 1.5*IQR))\n",
    "\n",
    "# lower bound\n",
    "lower = np.where(crop_price_df['Price'] <= (Q1 - 1.5*IQR))\n",
    "\n",
    "# Removing the outliers, i.e., the upper and lower bounds\n",
    "crop_price_df.drop(upper[0], inplace = True)\n",
    "crop_price_df.drop(lower[0], inplace = True)"
   ]
  },
  {
   "cell_type": "code",
   "execution_count": 27,
   "id": "a3da13cc",
   "metadata": {},
   "outputs": [
    {
     "data": {
      "text/plain": [
       "(25472, 6)"
      ]
     },
     "execution_count": 27,
     "metadata": {},
     "output_type": "execute_result"
    }
   ],
   "source": [
    "# Checking the new shape of dataset\n",
    "\n",
    "crop_price_df.shape"
   ]
  },
  {
   "cell_type": "code",
   "execution_count": 28,
   "id": "3d4ed041",
   "metadata": {},
   "outputs": [
    {
     "data": {
      "text/plain": [
       "<Axes: >"
      ]
     },
     "execution_count": 28,
     "metadata": {},
     "output_type": "execute_result"
    },
    {
     "data": {
      "image/png": "[encoded data removed]",
      "text/plain": [
       "<Figure size 640x480 with 1 Axes>"
      ]
     },
     "metadata": {},
     "output_type": "display_data"
    }
   ],
   "source": [
    "sns.boxplot(crop_price_df['Price'])"
   ]
  },
  {
   "cell_type": "code",
   "execution_count": 29,
   "id": "b77a17d3",
   "metadata": {},
   "outputs": [
    {
     "name": "stdout",
     "output_type": "stream",
     "text": [
      "<class 'pandas.core.frame.DataFrame'>\n",
      "Int64Index: 25472 entries, 0 to 27285\n",
      "Data columns (total 6 columns):\n",
      " #   Column  Non-Null Count  Dtype  \n",
      "---  ------  --------------  -----  \n",
      " 0   State   25472 non-null  object \n",
      " 1   Market  25472 non-null  object \n",
      " 2   Date    25472 non-null  object \n",
      " 3   Month   25472 non-null  int64  \n",
      " 4   Year    25472 non-null  int64  \n",
      " 5   Price   25472 non-null  float64\n",
      "dtypes: float64(1), int64(2), object(3)\n",
      "memory usage: 2.4+ MB\n"
     ]
    }
   ],
   "source": [
    "crop_price_df.info()"
   ]
  },
  {
   "cell_type": "code",
   "execution_count": 30,
   "id": "9a42dade",
   "metadata": {},
   "outputs": [],
   "source": [
    "# convert necessary object data to int data\n",
    "\n",
    "# State - Price Data Frame (pdf)\n",
    "unq_state_pdf = list(set(crop_price_df['State']))\n",
    "dictOfWords_state_pdf = { unq_state_pdf[i] : i for i in range(len(unq_state_pdf)) }\n",
    "crop_price_df['State'] = crop_price_df['State'].map(dictOfWords_state_pdf)\n",
    "\n",
    "# Market\n",
    "unq_market_pdf = list(set(crop_price_df['Market']))\n",
    "dictOfWords_market_pdf = { unq_market_pdf[i] : i for i in range(len(unq_market_pdf)) }\n",
    "crop_price_df['Market'] = crop_price_df['Market'].map(dictOfWords_market_pdf)"
   ]
  },
  {
   "cell_type": "code",
   "execution_count": 31,
   "id": "21483e2b",
   "metadata": {},
   "outputs": [
    {
     "data": {
      "text/html": [
       "<div>\n",
       "<style scoped>\n",
       "    .dataframe tbody tr th:only-of-type {\n",
       "        vertical-align: middle;\n",
       "    }\n",
       "\n",
       "    .dataframe tbody tr th {\n",
       "        vertical-align: top;\n",
       "    }\n",
       "\n",
       "    .dataframe thead th {\n",
       "        text-align: right;\n",
       "    }\n",
       "</style>\n",
       "<table border=\"1\" class=\"dataframe\">\n",
       "  <thead>\n",
       "    <tr style=\"text-align: right;\">\n",
       "      <th></th>\n",
       "      <th>State</th>\n",
       "      <th>Market</th>\n",
       "      <th>Date</th>\n",
       "      <th>Month</th>\n",
       "      <th>Year</th>\n",
       "      <th>Price</th>\n",
       "    </tr>\n",
       "  </thead>\n",
       "  <tbody>\n",
       "    <tr>\n",
       "      <th>0</th>\n",
       "      <td>9</td>\n",
       "      <td>45</td>\n",
       "      <td>01-01-2019</td>\n",
       "      <td>1</td>\n",
       "      <td>2019</td>\n",
       "      <td>4400.0</td>\n",
       "    </tr>\n",
       "    <tr>\n",
       "      <th>1</th>\n",
       "      <td>9</td>\n",
       "      <td>45</td>\n",
       "      <td>03-01-2019</td>\n",
       "      <td>1</td>\n",
       "      <td>2019</td>\n",
       "      <td>4500.0</td>\n",
       "    </tr>\n",
       "    <tr>\n",
       "      <th>2</th>\n",
       "      <td>9</td>\n",
       "      <td>45</td>\n",
       "      <td>21-01-2019</td>\n",
       "      <td>1</td>\n",
       "      <td>2019</td>\n",
       "      <td>4500.0</td>\n",
       "    </tr>\n",
       "    <tr>\n",
       "      <th>3</th>\n",
       "      <td>9</td>\n",
       "      <td>45</td>\n",
       "      <td>28-01-2019</td>\n",
       "      <td>1</td>\n",
       "      <td>2019</td>\n",
       "      <td>4600.0</td>\n",
       "    </tr>\n",
       "    <tr>\n",
       "      <th>4</th>\n",
       "      <td>9</td>\n",
       "      <td>45</td>\n",
       "      <td>05-02-2019</td>\n",
       "      <td>2</td>\n",
       "      <td>2019</td>\n",
       "      <td>4600.0</td>\n",
       "    </tr>\n",
       "  </tbody>\n",
       "</table>\n",
       "</div>"
      ],
      "text/plain": [
       "   State  Market        Date  Month  Year   Price\n",
       "0      9      45  01-01-2019      1  2019  4400.0\n",
       "1      9      45  03-01-2019      1  2019  4500.0\n",
       "2      9      45  21-01-2019      1  2019  4500.0\n",
       "3      9      45  28-01-2019      1  2019  4600.0\n",
       "4      9      45  05-02-2019      2  2019  4600.0"
      ]
     },
     "execution_count": 31,
     "metadata": {},
     "output_type": "execute_result"
    }
   ],
   "source": [
    "crop_price_df.head()"
   ]
  },
  {
   "cell_type": "code",
   "execution_count": 32,
   "id": "cfa4e9fd",
   "metadata": {},
   "outputs": [],
   "source": [
    "# Separate independent and dependent columns\n",
    "\n",
    "X = crop_price_df[['State', 'Market', 'Month', 'Year']]\n",
    "Y = crop_price_df[['Price']]"
   ]
  },
  {
   "cell_type": "code",
   "execution_count": 33,
   "id": "c4c356f4",
   "metadata": {},
   "outputs": [
    {
     "data": {
      "text/html": [
       "<div>\n",
       "<style scoped>\n",
       "    .dataframe tbody tr th:only-of-type {\n",
       "        vertical-align: middle;\n",
       "    }\n",
       "\n",
       "    .dataframe tbody tr th {\n",
       "        vertical-align: top;\n",
       "    }\n",
       "\n",
       "    .dataframe thead th {\n",
       "        text-align: right;\n",
       "    }\n",
       "</style>\n",
       "<table border=\"1\" class=\"dataframe\">\n",
       "  <thead>\n",
       "    <tr style=\"text-align: right;\">\n",
       "      <th></th>\n",
       "      <th>State</th>\n",
       "      <th>Market</th>\n",
       "      <th>Month</th>\n",
       "      <th>Year</th>\n",
       "    </tr>\n",
       "  </thead>\n",
       "  <tbody>\n",
       "    <tr>\n",
       "      <th>0</th>\n",
       "      <td>9</td>\n",
       "      <td>45</td>\n",
       "      <td>1</td>\n",
       "      <td>2019</td>\n",
       "    </tr>\n",
       "    <tr>\n",
       "      <th>1</th>\n",
       "      <td>9</td>\n",
       "      <td>45</td>\n",
       "      <td>1</td>\n",
       "      <td>2019</td>\n",
       "    </tr>\n",
       "    <tr>\n",
       "      <th>2</th>\n",
       "      <td>9</td>\n",
       "      <td>45</td>\n",
       "      <td>1</td>\n",
       "      <td>2019</td>\n",
       "    </tr>\n",
       "    <tr>\n",
       "      <th>3</th>\n",
       "      <td>9</td>\n",
       "      <td>45</td>\n",
       "      <td>1</td>\n",
       "      <td>2019</td>\n",
       "    </tr>\n",
       "    <tr>\n",
       "      <th>4</th>\n",
       "      <td>9</td>\n",
       "      <td>45</td>\n",
       "      <td>2</td>\n",
       "      <td>2019</td>\n",
       "    </tr>\n",
       "  </tbody>\n",
       "</table>\n",
       "</div>"
      ],
      "text/plain": [
       "   State  Market  Month  Year\n",
       "0      9      45      1  2019\n",
       "1      9      45      1  2019\n",
       "2      9      45      1  2019\n",
       "3      9      45      1  2019\n",
       "4      9      45      2  2019"
      ]
     },
     "execution_count": 33,
     "metadata": {},
     "output_type": "execute_result"
    }
   ],
   "source": [
    "X.head()"
   ]
  },
  {
   "cell_type": "code",
   "execution_count": 34,
   "id": "bed62384",
   "metadata": {},
   "outputs": [
    {
     "data": {
      "text/html": [
       "<div>\n",
       "<style scoped>\n",
       "    .dataframe tbody tr th:only-of-type {\n",
       "        vertical-align: middle;\n",
       "    }\n",
       "\n",
       "    .dataframe tbody tr th {\n",
       "        vertical-align: top;\n",
       "    }\n",
       "\n",
       "    .dataframe thead th {\n",
       "        text-align: right;\n",
       "    }\n",
       "</style>\n",
       "<table border=\"1\" class=\"dataframe\">\n",
       "  <thead>\n",
       "    <tr style=\"text-align: right;\">\n",
       "      <th></th>\n",
       "      <th>Price</th>\n",
       "    </tr>\n",
       "  </thead>\n",
       "  <tbody>\n",
       "    <tr>\n",
       "      <th>0</th>\n",
       "      <td>4400.0</td>\n",
       "    </tr>\n",
       "    <tr>\n",
       "      <th>1</th>\n",
       "      <td>4500.0</td>\n",
       "    </tr>\n",
       "    <tr>\n",
       "      <th>2</th>\n",
       "      <td>4500.0</td>\n",
       "    </tr>\n",
       "    <tr>\n",
       "      <th>3</th>\n",
       "      <td>4600.0</td>\n",
       "    </tr>\n",
       "    <tr>\n",
       "      <th>4</th>\n",
       "      <td>4600.0</td>\n",
       "    </tr>\n",
       "  </tbody>\n",
       "</table>\n",
       "</div>"
      ],
      "text/plain": [
       "    Price\n",
       "0  4400.0\n",
       "1  4500.0\n",
       "2  4500.0\n",
       "3  4600.0\n",
       "4  4600.0"
      ]
     },
     "execution_count": 34,
     "metadata": {},
     "output_type": "execute_result"
    }
   ],
   "source": [
    "Y.head()"
   ]
  },
  {
   "cell_type": "code",
   "execution_count": 35,
   "id": "48b7fda3",
   "metadata": {},
   "outputs": [],
   "source": [
    "# Split data into train and test data\n",
    "\n",
    "X_train,X_test,Y_train,Y_test = train_test_split(X, Y, test_size = 0.2)"
   ]
  },
  {
   "cell_type": "code",
   "execution_count": 36,
   "id": "fcfed9a1",
   "metadata": {},
   "outputs": [
    {
     "name": "stdout",
     "output_type": "stream",
     "text": [
      "Accuracy Score for Linear Regression is :  37.78175104601311 %\n",
      "Accuracy Score for Random Forest Regressor is :  92.78601016569746 %\n",
      "Accuracy Score for Gradient Boosting Regressor is :  77.47235367464216 %\n"
     ]
    }
   ],
   "source": [
    "# Build Regression Model\n",
    "\n",
    "models = {\n",
    "    LinearRegression():'Linear Regression',\n",
    "    RandomForestRegressor():'Random Forest Regressor',\n",
    "    GradientBoostingRegressor():'Gradient Boosting Regressor',\n",
    "}\n",
    "\n",
    "for m in models.keys():\n",
    "    m.fit(X_train,Y_train.values.ravel())\n",
    "\n",
    "for model,name in models.items():\n",
    "    print(f\"Accuracy Score for {name} is : \",model.score(X_test,Y_test)*100,\"%\")"
   ]
  },
  {
   "cell_type": "code",
   "execution_count": 37,
   "id": "3866a7e3",
   "metadata": {},
   "outputs": [
    {
     "data": {
      "text/html": [
       "<style>#sk-container-id-2 {color: black;background-color: white;}#sk-container-id-2 pre{padding: 0;}#sk-container-id-2 div.sk-toggleable {background-color: white;}#sk-container-id-2 label.sk-toggleable__label {cursor: pointer;display: block;width: 100%;margin-bottom: 0;padding: 0.3em;box-sizing: border-box;text-align: center;}#sk-container-id-2 label.sk-toggleable__label-arrow:before {content: \"▸\";float: left;margin-right: 0.25em;color: #696969;}#sk-container-id-2 label.sk-toggleable__label-arrow:hover:before {color: black;}#sk-container-id-2 div.sk-estimator:hover label.sk-toggleable__label-arrow:before {color: black;}#sk-container-id-2 div.sk-toggleable__content {max-height: 0;max-width: 0;overflow: hidden;text-align: left;background-color: #f0f8ff;}#sk-container-id-2 div.sk-toggleable__content pre {margin: 0.2em;color: black;border-radius: 0.25em;background-color: #f0f8ff;}#sk-container-id-2 input.sk-toggleable__control:checked~div.sk-toggleable__content {max-height: 200px;max-width: 100%;overflow: auto;}#sk-container-id-2 input.sk-toggleable__control:checked~label.sk-toggleable__label-arrow:before {content: \"▾\";}#sk-container-id-2 div.sk-estimator input.sk-toggleable__control:checked~label.sk-toggleable__label {background-color: #d4ebff;}#sk-container-id-2 div.sk-label input.sk-toggleable__control:checked~label.sk-toggleable__label {background-color: #d4ebff;}#sk-container-id-2 input.sk-hidden--visually {border: 0;clip: rect(1px 1px 1px 1px);clip: rect(1px, 1px, 1px, 1px);height: 1px;margin: -1px;overflow: hidden;padding: 0;position: absolute;width: 1px;}#sk-container-id-2 div.sk-estimator {font-family: monospace;background-color: #f0f8ff;border: 1px dotted black;border-radius: 0.25em;box-sizing: border-box;margin-bottom: 0.5em;}#sk-container-id-2 div.sk-estimator:hover {background-color: #d4ebff;}#sk-container-id-2 div.sk-parallel-item::after {content: \"\";width: 100%;border-bottom: 1px solid gray;flex-grow: 1;}#sk-container-id-2 div.sk-label:hover label.sk-toggleable__label {background-color: #d4ebff;}#sk-container-id-2 div.sk-serial::before {content: \"\";position: absolute;border-left: 1px solid gray;box-sizing: border-box;top: 0;bottom: 0;left: 50%;z-index: 0;}#sk-container-id-2 div.sk-serial {display: flex;flex-direction: column;align-items: center;background-color: white;padding-right: 0.2em;padding-left: 0.2em;position: relative;}#sk-container-id-2 div.sk-item {position: relative;z-index: 1;}#sk-container-id-2 div.sk-parallel {display: flex;align-items: stretch;justify-content: center;background-color: white;position: relative;}#sk-container-id-2 div.sk-item::before, #sk-container-id-2 div.sk-parallel-item::before {content: \"\";position: absolute;border-left: 1px solid gray;box-sizing: border-box;top: 0;bottom: 0;left: 50%;z-index: -1;}#sk-container-id-2 div.sk-parallel-item {display: flex;flex-direction: column;z-index: 1;position: relative;background-color: white;}#sk-container-id-2 div.sk-parallel-item:first-child::after {align-self: flex-end;width: 50%;}#sk-container-id-2 div.sk-parallel-item:last-child::after {align-self: flex-start;width: 50%;}#sk-container-id-2 div.sk-parallel-item:only-child::after {width: 0;}#sk-container-id-2 div.sk-dashed-wrapped {border: 1px dashed gray;margin: 0 0.4em 0.5em 0.4em;box-sizing: border-box;padding-bottom: 0.4em;background-color: white;}#sk-container-id-2 div.sk-label label {font-family: monospace;font-weight: bold;display: inline-block;line-height: 1.2em;}#sk-container-id-2 div.sk-label-container {text-align: center;}#sk-container-id-2 div.sk-container {/* jupyter's `normalize.less` sets `[hidden] { display: none; }` but bootstrap.min.css set `[hidden] { display: none !important; }` so we also need the `!important` here to be able to override the default hidden behavior on the sphinx rendered scikit-learn.org. See: https://github.com/scikit-learn/scikit-learn/issues/21755 */display: inline-block !important;position: relative;}#sk-container-id-2 div.sk-text-repr-fallback {display: none;}</style><div id=\"sk-container-id-2\" class=\"sk-top-container\"><div class=\"sk-text-repr-fallback\"><pre>RandomForestRegressor()</pre><b>In a Jupyter environment, please rerun this cell to show the HTML representation or trust the notebook. <br />On GitHub, the HTML representation is unable to render, please try loading this page with nbviewer.org.</b></div><div class=\"sk-container\" hidden><div class=\"sk-item\"><div class=\"sk-estimator sk-toggleable\"><input class=\"sk-toggleable__control sk-hidden--visually\" id=\"sk-estimator-id-2\" type=\"checkbox\" checked><label for=\"sk-estimator-id-2\" class=\"sk-toggleable__label sk-toggleable__label-arrow\">RandomForestRegressor</label><div class=\"sk-toggleable__content\"><pre>RandomForestRegressor()</pre></div></div></div></div></div>"
      ],
      "text/plain": [
       "RandomForestRegressor()"
      ]
     },
     "execution_count": 37,
     "metadata": {},
     "output_type": "execute_result"
    }
   ],
   "source": [
    "# Random Forest Regressor gives the best accuracy\n",
    "\n",
    "rfr = RandomForestRegressor()\n",
    "rfr.fit(X_train,Y_train.values.ravel())"
   ]
  },
  {
   "cell_type": "code",
   "execution_count": 38,
   "id": "be8ba1aa",
   "metadata": {},
   "outputs": [
    {
     "name": "stdout",
     "output_type": "stream",
     "text": [
      "Enter the name of the Market: Mumbai\n",
      "Enter the Month (number): 2\n",
      "Enter the Year (YYYY): 2024\n",
      "\n",
      "Predicted Price = Rs. 5354.4718441781 per Quintal\n"
     ]
    },
    {
     "name": "stderr",
     "output_type": "stream",
     "text": [
      "C:\\ProgramData\\anaconda3\\lib\\site-packages\\sklearn\\base.py:420: UserWarning: X does not have valid feature names, but RandomForestRegressor was fitted with feature names\n",
      "  warnings.warn(\n"
     ]
    }
   ],
   "source": [
    "# Testing with user input\n",
    "\n",
    "State_pdf = [k for k, v in dictOfWords_state.items() if v == State][0]\n",
    "Market = input(\"Enter the name of the Market: \")\n",
    "Month = int(input(\"Enter the Month (number): \"))\n",
    "Year = int(input(\"Enter the Year (YYYY): \"))\n",
    "\n",
    "State_pdf = dictOfWords_state_pdf[State_pdf]\n",
    "Market = dictOfWords_market_pdf[Market]\n",
    "\n",
    "user_input = [[State_pdf,Market,Month,Year]]\n",
    "\n",
    "predicted_price = rfr.predict(user_input)[0]\n",
    "\n",
    "print(\"\\nPredicted Price = Rs.\", predicted_price, \"per Quintal\")"
   ]
  },
  {
   "cell_type": "code",
   "execution_count": null,
   "id": "aecfafee",
   "metadata": {},
   "outputs": [],
   "source": []
  }
 ],
 "metadata": {
  "kernelspec": {
   "display_name": "Python 3 (ipykernel)",
   "language": "python",
   "name": "python3"
  },
  "language_info": {
   "codemirror_mode": {
    "name": "ipython",
    "version": 3
   },
   "file_extension": ".py",
   "mimetype": "text/x-python",
   "name": "python",
   "nbconvert_exporter": "python",
   "pygments_lexer": "ipython3",
   "version": "3.10.9"
  }
 },
 "nbformat": 4,
 "nbformat_minor": 5
}
